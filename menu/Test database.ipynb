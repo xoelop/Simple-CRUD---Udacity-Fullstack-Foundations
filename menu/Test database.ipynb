{
 "cells": [
  {
   "cell_type": "code",
   "execution_count": 1,
   "metadata": {
    "collapsed": true
   },
   "outputs": [],
   "source": [
    "from sqlalchemy import create_engine\n",
    "from sqlalchemy.orm import sessionmaker\n",
    "from database_setup import Base, Restaurant, MenuItem"
   ]
  },
  {
   "cell_type": "code",
   "execution_count": 2,
   "metadata": {
    "collapsed": true
   },
   "outputs": [],
   "source": [
    "engine = create_engine('sqlite:///restaurantMenu.db')\n",
    "Base.metadata.bind=engine\n",
    "DBSession = sessionmaker(bind = engine)\n",
    "session = DBSession()"
   ]
  },
  {
   "cell_type": "code",
   "execution_count": 3,
   "metadata": {},
   "outputs": [
    {
     "data": {
      "text/plain": [
       "'Pizza Palace'"
      ]
     },
     "execution_count": 3,
     "metadata": {},
     "output_type": "execute_result"
    }
   ],
   "source": [
    "firstResult = session.query(Restaurant).first()\n",
    "firstResult.name"
   ]
  },
  {
   "cell_type": "markdown",
   "metadata": {},
   "source": [
    "### READ"
   ]
  },
  {
   "cell_type": "code",
   "execution_count": 4,
   "metadata": {},
   "outputs": [
    {
     "data": {
      "text/plain": [
       "['Pizza Palace',\n",
       " 'Urban Burger',\n",
       " 'Super Stir Fry',\n",
       " 'Panda Garden',\n",
       " 'Thyme for That Vegetarian Cuisine ',\n",
       " \"Tony's Bistro \",\n",
       " \"Andala's\",\n",
       " \"Auntie Ann's Diner \",\n",
       " 'Cocina Y Amor ',\n",
       " 'State Bird Provisions',\n",
       " 'adsfasd',\n",
       " 'asdfasd',\n",
       " 'Pizza Palaces',\n",
       " 'Urban Burgers']"
      ]
     },
     "execution_count": 4,
     "metadata": {},
     "output_type": "execute_result"
    }
   ],
   "source": [
    "items = session.query(Restaurant).all()\n",
    "[item.name for item in items]"
   ]
  },
  {
   "cell_type": "markdown",
   "metadata": {},
   "source": [
    "### CREATE"
   ]
  },
  {
   "cell_type": "code",
   "execution_count": 5,
   "metadata": {
    "collapsed": true
   },
   "outputs": [],
   "source": [
    "newRestaurant = Restaurant(name=\"Xoel's\")\n",
    "session.add(newRestaurant)\n",
    "session.commit()"
   ]
  },
  {
   "cell_type": "code",
   "execution_count": 7,
   "metadata": {},
   "outputs": [
    {
     "data": {
      "text/plain": [
       "['Pizza Palace',\n",
       " 'Urban Burger',\n",
       " 'Super Stir Fry',\n",
       " 'Panda Garden',\n",
       " 'Thyme for That Vegetarian Cuisine ',\n",
       " \"Tony's Bistro \",\n",
       " \"Andala's\",\n",
       " \"Auntie Ann's Diner \",\n",
       " 'Cocina Y Amor ',\n",
       " 'State Bird Provisions',\n",
       " 'adsfasd',\n",
       " 'asdfasd',\n",
       " 'Pizza Palaces',\n",
       " 'Urban Burgers',\n",
       " \"Xoel's\"]"
      ]
     },
     "execution_count": 7,
     "metadata": {},
     "output_type": "execute_result"
    }
   ],
   "source": [
    "items = session.query(Restaurant).all()\n",
    "[item.name for item in items]"
   ]
  },
  {
   "cell_type": "code",
   "execution_count": 8,
   "metadata": {},
   "outputs": [
    {
     "name": "stdout",
     "output_type": "stream",
     "text": [
      "Xoel's\n"
     ]
    }
   ],
   "source": [
    "print(items[-1].name)"
   ]
  },
  {
   "cell_type": "markdown",
   "metadata": {},
   "source": [
    "### UPDATE"
   ]
  },
  {
   "cell_type": "code",
   "execution_count": 9,
   "metadata": {},
   "outputs": [
    {
     "data": {
      "text/plain": [
       "['Pizza Palace',\n",
       " 'Urban Burger',\n",
       " 'Super Stir Fry',\n",
       " 'Panda Garden',\n",
       " 'Thyme for That Vegetarian Cuisine ',\n",
       " \"Tony's Bistro \",\n",
       " \"Andala's\",\n",
       " \"Auntie Ann's Diner \",\n",
       " 'Cocina Y Amor ',\n",
       " 'State Bird Provisions',\n",
       " 'adsfasd',\n",
       " 'asdfasd',\n",
       " 'Pizza Palaces',\n",
       " 'Urban Burgers',\n",
       " \"Xoel's\"]"
      ]
     },
     "execution_count": 9,
     "metadata": {},
     "output_type": "execute_result"
    }
   ],
   "source": [
    "items = session.query(Restaurant).all()\n",
    "[item.name for item in items]"
   ]
  },
  {
   "cell_type": "code",
   "execution_count": 10,
   "metadata": {},
   "outputs": [
    {
     "data": {
      "text/plain": [
       "([], [])"
      ]
     },
     "execution_count": 10,
     "metadata": {},
     "output_type": "execute_result"
    }
   ],
   "source": [
    "items = session.query(Restaurant).filter_by(name='lalalala')\n",
    "[item.name for item in items], [item.id for item in items]"
   ]
  },
  {
   "cell_type": "code",
   "execution_count": 11,
   "metadata": {},
   "outputs": [
    {
     "ename": "NoResultFound",
     "evalue": "No row was found for one()",
     "output_type": "error",
     "traceback": [
      "\u001b[0;31m---------------------------------------------------------------------------\u001b[0m",
      "\u001b[0;31mNoResultFound\u001b[0m                             Traceback (most recent call last)",
      "\u001b[0;32m<ipython-input-11-cb2e0788a163>\u001b[0m in \u001b[0;36m<module>\u001b[0;34m()\u001b[0m\n\u001b[0;32m----> 1\u001b[0;31m \u001b[0mcurrentRestaurant\u001b[0m \u001b[0;34m=\u001b[0m \u001b[0msession\u001b[0m\u001b[0;34m.\u001b[0m\u001b[0mquery\u001b[0m\u001b[0;34m(\u001b[0m\u001b[0mRestaurant\u001b[0m\u001b[0;34m)\u001b[0m\u001b[0;34m.\u001b[0m\u001b[0mfilter_by\u001b[0m\u001b[0;34m(\u001b[0m\u001b[0mid\u001b[0m\u001b[0;34m=\u001b[0m\u001b[0;36m12\u001b[0m\u001b[0;34m)\u001b[0m\u001b[0;34m.\u001b[0m\u001b[0mone\u001b[0m\u001b[0;34m(\u001b[0m\u001b[0;34m)\u001b[0m\u001b[0;34m\u001b[0m\u001b[0m\n\u001b[0m\u001b[1;32m      2\u001b[0m \u001b[0mcurrentRestaurant\u001b[0m\u001b[0;34m.\u001b[0m\u001b[0mname\u001b[0m \u001b[0;34m=\u001b[0m \u001b[0;34m'lololo'\u001b[0m\u001b[0;34m\u001b[0m\u001b[0m\n\u001b[1;32m      3\u001b[0m \u001b[0msession\u001b[0m\u001b[0;34m.\u001b[0m\u001b[0madd\u001b[0m\u001b[0;34m(\u001b[0m\u001b[0mcurrentRestaurant\u001b[0m\u001b[0;34m)\u001b[0m\u001b[0;34m\u001b[0m\u001b[0m\n\u001b[1;32m      4\u001b[0m \u001b[0msession\u001b[0m\u001b[0;34m.\u001b[0m\u001b[0mcommit\u001b[0m\u001b[0;34m(\u001b[0m\u001b[0;34m)\u001b[0m\u001b[0;34m\u001b[0m\u001b[0m\n",
      "\u001b[0;32m~/anaconda3/lib/python3.6/site-packages/sqlalchemy/orm/query.py\u001b[0m in \u001b[0;36mone\u001b[0;34m(self)\u001b[0m\n\u001b[1;32m   2818\u001b[0m         \u001b[0;32melse\u001b[0m\u001b[0;34m:\u001b[0m\u001b[0;34m\u001b[0m\u001b[0m\n\u001b[1;32m   2819\u001b[0m             \u001b[0;32mif\u001b[0m \u001b[0mret\u001b[0m \u001b[0;32mis\u001b[0m \u001b[0;32mNone\u001b[0m\u001b[0;34m:\u001b[0m\u001b[0;34m\u001b[0m\u001b[0m\n\u001b[0;32m-> 2820\u001b[0;31m                 \u001b[0;32mraise\u001b[0m \u001b[0morm_exc\u001b[0m\u001b[0;34m.\u001b[0m\u001b[0mNoResultFound\u001b[0m\u001b[0;34m(\u001b[0m\u001b[0;34m\"No row was found for one()\"\u001b[0m\u001b[0;34m)\u001b[0m\u001b[0;34m\u001b[0m\u001b[0m\n\u001b[0m\u001b[1;32m   2821\u001b[0m             \u001b[0;32mreturn\u001b[0m \u001b[0mret\u001b[0m\u001b[0;34m\u001b[0m\u001b[0m\n\u001b[1;32m   2822\u001b[0m \u001b[0;34m\u001b[0m\u001b[0m\n",
      "\u001b[0;31mNoResultFound\u001b[0m: No row was found for one()"
     ]
    }
   ],
   "source": [
    "currentRestaurant = session.query(Restaurant).filter_by(id=12).one()\n",
    "currentRestaurant.name = 'lololo'\n",
    "session.add(currentRestaurant)\n",
    "session.commit()"
   ]
  },
  {
   "cell_type": "code",
   "execution_count": 12,
   "metadata": {},
   "outputs": [
    {
     "data": {
      "text/plain": [
       "['Pizza Palace',\n",
       " 'Urban Burger',\n",
       " 'Super Stir Fry',\n",
       " 'Panda Garden',\n",
       " 'Thyme for That Vegetarian Cuisine ',\n",
       " \"Tony's Bistro \",\n",
       " \"Andala's\",\n",
       " \"Auntie Ann's Diner \",\n",
       " 'Cocina Y Amor ',\n",
       " 'State Bird Provisions',\n",
       " 'adsfasd',\n",
       " 'asdfasd',\n",
       " 'Pizza Palaces',\n",
       " 'Urban Burgers',\n",
       " \"Xoel's\"]"
      ]
     },
     "execution_count": 12,
     "metadata": {},
     "output_type": "execute_result"
    }
   ],
   "source": [
    "[item.name for item in session.query(Restaurant).all()]"
   ]
  },
  {
   "cell_type": "code",
   "execution_count": 13,
   "metadata": {},
   "outputs": [
    {
     "data": {
      "text/plain": [
       "1"
      ]
     },
     "execution_count": 13,
     "metadata": {},
     "output_type": "execute_result"
    }
   ],
   "source": [
    "test_string = 'http://localhost:8080/restaurants/1/edit'\n",
    "[int(s) for s in test_string.split('/') if s.isdigit()][0]"
   ]
  },
  {
   "cell_type": "code",
   "execution_count": null,
   "metadata": {
    "collapsed": true
   },
   "outputs": [],
   "source": []
  },
  {
   "cell_type": "code",
   "execution_count": 14,
   "metadata": {},
   "outputs": [
    {
     "data": {
      "text/plain": [
       "[('Pizza Palace', 1),\n",
       " ('Urban Burger', 2),\n",
       " ('Super Stir Fry', 3),\n",
       " ('Panda Garden', 4),\n",
       " ('Thyme for That Vegetarian Cuisine ', 5),\n",
       " (\"Tony's Bistro \", 6),\n",
       " (\"Andala's\", 7),\n",
       " (\"Auntie Ann's Diner \", 8),\n",
       " ('Cocina Y Amor ', 9),\n",
       " ('State Bird Provisions', 10),\n",
       " ('adsfasd', 13),\n",
       " ('asdfasd', 15),\n",
       " ('Pizza Palaces', 16),\n",
       " ('Urban Burgers', 17),\n",
       " (\"Xoel's\", 18)]"
      ]
     },
     "execution_count": 14,
     "metadata": {},
     "output_type": "execute_result"
    }
   ],
   "source": [
    "[(item.name, item.id )for item in session.query(Restaurant).all()]"
   ]
  },
  {
   "cell_type": "code",
   "execution_count": 20,
   "metadata": {
    "scrolled": false
   },
   "outputs": [
    {
     "data": {
      "text/plain": [
       "[<database_setup.MenuItem at 0x106ed2240>,\n",
       " <database_setup.MenuItem at 0x106ed2fd0>,\n",
       " <database_setup.MenuItem at 0x106ed2f98>,\n",
       " <database_setup.MenuItem at 0x106ed2eb8>,\n",
       " <database_setup.MenuItem at 0x106ed2400>,\n",
       " <database_setup.MenuItem at 0x106f50240>,\n",
       " <database_setup.MenuItem at 0x106f50390>,\n",
       " <database_setup.MenuItem at 0x106f50630>,\n",
       " <database_setup.MenuItem at 0x106f506d8>,\n",
       " <database_setup.MenuItem at 0x106f50780>,\n",
       " <database_setup.MenuItem at 0x106f50828>,\n",
       " <database_setup.MenuItem at 0x106f508d0>,\n",
       " <database_setup.MenuItem at 0x106f50978>,\n",
       " <database_setup.MenuItem at 0x106f50a20>,\n",
       " <database_setup.MenuItem at 0x106f50ac8>,\n",
       " <database_setup.MenuItem at 0x106f50b70>,\n",
       " <database_setup.MenuItem at 0x106f50c18>,\n",
       " <database_setup.MenuItem at 0x106f50cc0>,\n",
       " <database_setup.MenuItem at 0x106f50d68>,\n",
       " <database_setup.MenuItem at 0x106f50e10>,\n",
       " <database_setup.MenuItem at 0x106f50eb8>,\n",
       " <database_setup.MenuItem at 0x106f50f60>,\n",
       " <database_setup.MenuItem at 0x106f01048>,\n",
       " <database_setup.MenuItem at 0x106f010f0>,\n",
       " <database_setup.MenuItem at 0x106f01198>,\n",
       " <database_setup.MenuItem at 0x106f01240>,\n",
       " <database_setup.MenuItem at 0x106f012e8>,\n",
       " <database_setup.MenuItem at 0x106f01358>,\n",
       " <database_setup.MenuItem at 0x106f01400>,\n",
       " <database_setup.MenuItem at 0x106f014a8>,\n",
       " <database_setup.MenuItem at 0x106f01550>,\n",
       " <database_setup.MenuItem at 0x106f015f8>,\n",
       " <database_setup.MenuItem at 0x106f016a0>,\n",
       " <database_setup.MenuItem at 0x106f01748>,\n",
       " <database_setup.MenuItem at 0x106f017f0>,\n",
       " <database_setup.MenuItem at 0x106f01898>,\n",
       " <database_setup.MenuItem at 0x106f01940>,\n",
       " <database_setup.MenuItem at 0x106f019e8>,\n",
       " <database_setup.MenuItem at 0x106f01a90>,\n",
       " <database_setup.MenuItem at 0x106f01b38>,\n",
       " <database_setup.MenuItem at 0x106f01be0>,\n",
       " <database_setup.MenuItem at 0x106f01c88>,\n",
       " <database_setup.MenuItem at 0x106f01d30>,\n",
       " <database_setup.MenuItem at 0x106f01dd8>,\n",
       " <database_setup.MenuItem at 0x106f01e80>,\n",
       " <database_setup.MenuItem at 0x106f01f28>,\n",
       " <database_setup.MenuItem at 0x106f01fd0>,\n",
       " <database_setup.MenuItem at 0x106ef4b38>]"
      ]
     },
     "execution_count": 20,
     "metadata": {},
     "output_type": "execute_result"
    }
   ],
   "source": [
    "all_menu_items = session.query(MenuItem).all()\n",
    "all_menu_items"
   ]
  },
  {
   "cell_type": "code",
   "execution_count": 19,
   "metadata": {},
   "outputs": [],
   "source": [
    "one = session.query(MenuItem).first()"
   ]
  },
  {
   "cell_type": "code",
   "execution_count": 29,
   "metadata": {},
   "outputs": [
    {
     "data": {
      "text/plain": [
       "[('Veggie Burger', 2),\n",
       " ('French Fries', 2),\n",
       " ('Chicken Burger', 2),\n",
       " ('Chocolate Cake', 2),\n",
       " ('Sirloin Burger', 2),\n",
       " ('Root Beer', 2),\n",
       " ('Iced Tea', 2),\n",
       " ('Grilled Cheese Sandwich', 2),\n",
       " ('Veggie Burger', 2)]"
      ]
     },
     "execution_count": 29,
     "metadata": {},
     "output_type": "execute_result"
    }
   ],
   "source": [
    "[(item.name, item.restaurant_id) for item \n",
    "in session.query(MenuItem).filter_by(restaurant_id=2).all()]"
   ]
  },
  {
   "cell_type": "code",
   "execution_count": 27,
   "metadata": {},
   "outputs": [
    {
     "data": {
      "text/plain": [
       "[('Cheese Pizza', 1),\n",
       " ('Veggie Burger', 2),\n",
       " ('French Fries', 2),\n",
       " ('Chicken Burger', 2),\n",
       " ('Chocolate Cake', 2),\n",
       " ('Sirloin Burger', 2),\n",
       " ('Root Beer', 2),\n",
       " ('Iced Tea', 2),\n",
       " ('Grilled Cheese Sandwich', 2),\n",
       " ('Veggie Burger', 2),\n",
       " ('Chicken Stir Fry', 3),\n",
       " ('Peking Duck', 3),\n",
       " ('Spicy Tuna Roll', 3),\n",
       " ('Nepali Momo ', 3),\n",
       " ('Beef Noodle Soup', 3),\n",
       " ('Ramen', 3),\n",
       " ('Pho', 4),\n",
       " ('Chinese Dumplings', 4),\n",
       " ('Gyoza', 4),\n",
       " ('Stinky Tofu', 4),\n",
       " ('Veggie Burger', 4),\n",
       " ('Tres Leches Cake', 5),\n",
       " ('Mushroom risotto', 5),\n",
       " ('Honey Boba Shaved Snow', 5),\n",
       " ('Cauliflower Manchurian', 5),\n",
       " ('Aloo Gobi Burrito', 5),\n",
       " ('Veggie Burger', 5),\n",
       " ('Shellfish Tower', 6),\n",
       " ('Chicken and Rice', 6),\n",
       " (\"Mom's Spaghetti\", 6),\n",
       " (\"Choc Full O' Mint (Smitten's Fresh Mint Chip ice cream)\", 6),\n",
       " ('Tonkatsu Ramen', 6),\n",
       " ('Lamb Curry', 7),\n",
       " ('Chicken Marsala', 7),\n",
       " ('Potstickers', 7),\n",
       " ('Nigiri Sampler', 7),\n",
       " ('Veggie Burger', 7),\n",
       " ('Chicken Fried Steak', 8),\n",
       " ('Boysenberry Sorbet', 8),\n",
       " ('Broiled salmon', 8),\n",
       " ('Morels on toast (seasonal)', 8),\n",
       " ('Tandoori Chicken', 8),\n",
       " ('Veggie Burger', 8),\n",
       " ('Super Burrito Al Pastor', 9),\n",
       " ('Cachapa', 9),\n",
       " ('Chantrelle Toast', 10),\n",
       " ('Guanciale Chawanmushi', 10),\n",
       " ('Lemon Curd Ice Cream Sandwich', 10)]"
      ]
     },
     "execution_count": 27,
     "metadata": {},
     "output_type": "execute_result"
    }
   ],
   "source": [
    "[(item.name, item.restaurant_id) for item in all_menu_items]"
   ]
  }
 ],
 "metadata": {
  "kernelspec": {
   "display_name": "Python 3",
   "language": "python",
   "name": "python3"
  },
  "language_info": {
   "codemirror_mode": {
    "name": "ipython",
    "version": 3
   },
   "file_extension": ".py",
   "mimetype": "text/x-python",
   "name": "python",
   "nbconvert_exporter": "python",
   "pygments_lexer": "ipython3",
   "version": "3.6.3"
  }
 },
 "nbformat": 4,
 "nbformat_minor": 2
}
